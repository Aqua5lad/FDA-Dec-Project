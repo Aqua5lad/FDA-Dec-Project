{
 "cells": [
  {
   "cell_type": "markdown",
   "metadata": {},
   "source": [
    "# FDA Project Dec 2018"
   ]
  },
  {
   "cell_type": "markdown",
   "metadata": {},
   "source": [
    "by Colm Doherty"
   ]
  },
  {
   "cell_type": "markdown",
   "metadata": {},
   "source": [
    "*Summarise the history of the box plot and situations in which it used\n",
    "\n",
    "*Demonstrate the use of the box plot using data of your choosing. EXPAND\n",
    "\n",
    "*Explain any relevant terminology such as the terms quartile and percentile. EXPAND\n",
    "\n",
    "*Compare the box plot to alternatives."
   ]
  },
  {
   "cell_type": "markdown",
   "metadata": {},
   "source": [
    "## History of the box plot"
   ]
  },
  {
   "cell_type": "markdown",
   "metadata": {},
   "source": [
    "The \"box plot\", or more correctly the \"box-and-whisker plot\", is a histogram-like method of displaying groups of numerical data through their quartiles<sup>[1]</sup>. It was invented in 1970 by John Wilder Tukey<sup>[1a]</sup>, an American mathematician best known for development of the FFT algorithm and the box plot. The Tukey range test, the Tukey lambda distribution, the Tukey test of additivity, and the Teichmüller–Tukey lemma all bear his name. He is also credited with coining the term 'bit' <sup>[2]</sup>.\n",
    "\n",
    "In his 1995 book \"The Same and Not the Same\"<sup>[3]</sup>, Roald Hoffmann, a theoretical chemist who won the 1981 Nobel Prize in Chemistry<sup>[4]</sup>, said this about data: \n",
    "\"They are different, but not different enough to matter - like the maple leaves off the tree in my yard, when all I want to do is rake them up.\"<sup>[5]</sup> "
   ]
  },
  {
   "cell_type": "markdown",
   "metadata": {},
   "source": [
    "\"The Same and Not the Same\" is a short, accurate description of almost any set of data...a pile of maple leaves for example. Maple leaves have approximately the same size, but with some variation. Descriptive statistics are an attempt to use numbers to describe how data are the same and not the same. The box plot is a standardized way of displaying the distribution of data based on the five number summary: minimum, first quartile, median, third quartile, and maximum. "
   ]
  },
  {
   "cell_type": "markdown",
   "metadata": {},
   "source": [
    "![alt text](Boxplot Cholesterol.png \"Boxplot Cholesterol\")\n",
    "<p style=\"text-align: center;\">Example of the box-and-whisker plot"
   ]
  },
  {
   "cell_type": "markdown",
   "metadata": {},
   "source": [
    "## Situations in which the box plot is used"
   ]
  },
  {
   "cell_type": "markdown",
   "metadata": {},
   "source": [
    "When tasked to compare group datasets, Histograms are helpful for visualizing the distribution of variables. But if you need to 'drill down' for more information, boxplots are very useful. Perhaps we want a clearer view of the standard deviation? Perhaps the median is quite different from the mean and thus we have many outliers? What if there is so skew and many of the values are concentrated to one side?\n",
    "\n",
    "That’s where boxplots come in. Box plots give us all of the information above. The bottom and top of the solid-lined box are always the first and third quartiles (i.e 25% and 75% of the data), and the band inside the box is always the second quartile (the median). The whiskers (i.e the dashed lines with the bars on the end) extend from the box to show the range of the data. (https://towardsdatascience.com/5-quick-and-easy-data-visualizations-in-python-with-code-a2284bae952f)\n",
    "\n",
    "The box plot is particularly suitable for comparing range and distribution for groups of numerical data. Its ideal for comparing distributions because the centre, spread and overall range are immediately apparent.\n",
    "\n",
    "While it does not show a distribution in as much detail as a histogram does, it is useful for indicating whether a distribution is skewed and whether there are potentially unusual observations (outliers) in the data set. Box plots are also very useful when large numbers of observations are involved and when two or more data sets are being compared.<sup>[6]</sup>\n",
    "\n",
    "ADVANTAGES:    The box plot organizes large amounts of data, and visualizes outlier values.\n",
    "\n",
    "DISADVANTAGES: Its not relevant for detailed analysis of data as it deals with a summary of the data distribution. <sup>[7]</sup>"
   ]
  },
  {
   "cell_type": "markdown",
   "metadata": {},
   "source": [
    "### Interpretting a box plot "
   ]
  },
  {
   "cell_type": "markdown",
   "metadata": {},
   "source": [
    "![alt text](boxplotimage.png \"Boxplot definitions\")"
   ]
  },
  {
   "cell_type": "markdown",
   "metadata": {},
   "source": [
    "The box plot (a.k.a. box and whisker diagram) is a standardized way of displaying the distribution of data based on the five number summary: minimum, first quartile, median, third quartile, and maximum. \n",
    "\n",
    "In the simplest box plot the central rectangle spans the first quartile to the third quartile (the interquartile range or IQR). A segment inside the rectangle shows the median and \"whiskers\" above and below the box show the locations of the minimum and maximum. (http://www.physics.csbsju.edu/stats/box2.html)\n",
    "\n",
    "To interpret a box plot:\n",
    "\n",
    "Step 1: Assess the key characteristics. <sup>[8]</sup>\n",
    "Examine the center and spread of the distribution. Assess how the sample size may affect the appearance of the box plot.\n",
    "\n",
    "Step 2: Look for indicators of nonnormal or unusual data.\n",
    "Skewed data indicate that data may be nonnormal. Outliers may indicate other conditions in your data.\n",
    "\n",
    "Step 3: Assess and compare groups.\n",
    "If your box plot has groups, assess and compare the center and spread of the groups."
   ]
  },
  {
   "cell_type": "markdown",
   "metadata": {},
   "source": [
    "#### Understanding Quartiles and Percentiles\n",
    "The first quartile (Q1) is defined as the middle number between the smallest number and the median of the data set. The second quartile (Q2) is the median of the data. The third quartile (Q3) is the middle value between the median and the highest value of the data set.\n",
    "\n",
    "Percentile rank refers to the percentage of values that are equal to or less than a given score. Percentile ranks, like percentages, fall on a continuum from 0 to 100. A percentile rank of 25 indicates that 25% of the values in a distribution fall at or below this rank. The first quartile (Q1) is at the 25th percentile - or a Quarter of all the values, hence the term Quartile. \n",
    "\n",
    "https://study.com/academy/lesson/percentile-rank-in-statistics-definition-formula-quiz.html"
   ]
  },
  {
   "cell_type": "markdown",
   "metadata": {},
   "source": [
    "### Minima, Maxima and Outliers"
   ]
  },
  {
   "cell_type": "markdown",
   "metadata": {},
   "source": [
    "The simplest possible box plot displays the full range of variation (from min to max), the likely range of variation (the IQR), and a typical value (the median). Not uncommonly real datasets will display surprisingly high maximums or surprisingly low minimums called outliers. John Tukey has provided a precise definition for two types of outliers:\n",
    "\n",
    "**Outliers** are either 3×IQR or more above the third quartile or 3×IQR or more below the first quartile.\n",
    "\n",
    "**Suspected** outliers are are slightly more central versions of outliers: either 1.5×IQR or more above the third quartile or 1.5×IQR or more below the first quartile.\n",
    "\n",
    "If either type of outlier is present the whisker on the appropriate side is taken to 1.5×IQR from the quartile (the \"inner fence\") rather than the max or min, and individual outlying data points are displayed as unfilled circles (for suspected outliers) or filled circles (for outliers). (The \"outer fence\" is 3×IQR from the quartile.)"
   ]
  },
  {
   "cell_type": "markdown",
   "metadata": {},
   "source": [
    "![alt text](complex.box.defs.gif \"Boxplot defs\")"
   ]
  },
  {
   "cell_type": "markdown",
   "metadata": {},
   "source": [
    "## Example of using the Box plot with a chosen dataset"
   ]
  },
  {
   "cell_type": "markdown",
   "metadata": {},
   "source": [
    "### Import Libraries"
   ]
  },
  {
   "cell_type": "code",
   "execution_count": 5,
   "metadata": {},
   "outputs": [],
   "source": [
    "import pandas as pd\n",
    "import numpy as np\n",
    "import matplotlib.pyplot as plt\n",
    "import seaborn as sns\n",
    "from scipy import stats\n",
    "%matplotlib inline"
   ]
  },
  {
   "cell_type": "markdown",
   "metadata": {},
   "source": [
    "### About the Dataset - Infants with SIRDS"
   ]
  },
  {
   "cell_type": "markdown",
   "metadata": {},
   "source": [
    "The following example<sup>[9]</sup> from the Open University relates to birth weights of infants exhibiting severe idiopathic respiratory distress syndrome (SIRDS), and the question ‘Is it possible to relate the chances of eventual survival to birth weight?’ The data consists of the recorded birth weights of infants (in kgs) who displayed the syndrome, divided into two groups - those who died, and those who survived.\n"
   ]
  },
  {
   "cell_type": "markdown",
   "metadata": {},
   "source": [
    "### Import Dataset"
   ]
  },
  {
   "cell_type": "code",
   "execution_count": 6,
   "metadata": {},
   "outputs": [
    {
     "data": {
      "text/html": [
       "<div>\n",
       "<style scoped>\n",
       "    .dataframe tbody tr th:only-of-type {\n",
       "        vertical-align: middle;\n",
       "    }\n",
       "\n",
       "    .dataframe tbody tr th {\n",
       "        vertical-align: top;\n",
       "    }\n",
       "\n",
       "    .dataframe thead th {\n",
       "        text-align: right;\n",
       "    }\n",
       "</style>\n",
       "<table border=\"1\" class=\"dataframe\">\n",
       "  <thead>\n",
       "    <tr style=\"text-align: right;\">\n",
       "      <th></th>\n",
       "      <th>died</th>\n",
       "      <th>lived</th>\n",
       "    </tr>\n",
       "  </thead>\n",
       "  <tbody>\n",
       "    <tr>\n",
       "      <th>count</th>\n",
       "      <td>27.000000</td>\n",
       "      <td>23.000000</td>\n",
       "    </tr>\n",
       "    <tr>\n",
       "      <th>mean</th>\n",
       "      <td>1.692593</td>\n",
       "      <td>2.308261</td>\n",
       "    </tr>\n",
       "    <tr>\n",
       "      <th>std</th>\n",
       "      <td>0.517231</td>\n",
       "      <td>0.664411</td>\n",
       "    </tr>\n",
       "    <tr>\n",
       "      <th>min</th>\n",
       "      <td>1.030000</td>\n",
       "      <td>1.130000</td>\n",
       "    </tr>\n",
       "    <tr>\n",
       "      <th>25%</th>\n",
       "      <td>1.245000</td>\n",
       "      <td>1.740000</td>\n",
       "    </tr>\n",
       "    <tr>\n",
       "      <th>50%</th>\n",
       "      <td>1.600000</td>\n",
       "      <td>2.200000</td>\n",
       "    </tr>\n",
       "    <tr>\n",
       "      <th>75%</th>\n",
       "      <td>2.070000</td>\n",
       "      <td>2.765000</td>\n",
       "    </tr>\n",
       "    <tr>\n",
       "      <th>max</th>\n",
       "      <td>2.730000</td>\n",
       "      <td>3.640000</td>\n",
       "    </tr>\n",
       "  </tbody>\n",
       "</table>\n",
       "</div>"
      ],
      "text/plain": [
       "            died      lived\n",
       "count  27.000000  23.000000\n",
       "mean    1.692593   2.308261\n",
       "std     0.517231   0.664411\n",
       "min     1.030000   1.130000\n",
       "25%     1.245000   1.740000\n",
       "50%     1.600000   2.200000\n",
       "75%     2.070000   2.765000\n",
       "max     2.730000   3.640000"
      ]
     },
     "execution_count": 6,
     "metadata": {},
     "output_type": "execute_result"
    }
   ],
   "source": [
    "# import the dataset and describe it\n",
    "import csv as df\n",
    "df = pd.read_csv(\"Birthweights.csv\") \n",
    "df.describe()"
   ]
  },
  {
   "cell_type": "markdown",
   "metadata": {},
   "source": [
    "### Box Plots of the data, using a number of python library functions"
   ]
  },
  {
   "cell_type": "code",
   "execution_count": 3,
   "metadata": {
    "scrolled": false
   },
   "outputs": [
    {
     "data": {
      "text/plain": [
       "<matplotlib.axes._subplots.AxesSubplot at 0x1a0b4dd4e0>"
      ]
     },
     "execution_count": 3,
     "metadata": {},
     "output_type": "execute_result"
    },
    {
     "data": {
      "image/png": "[encoded data removed]",
      "text/plain": [
       "<Figure size 432x288 with 1 Axes>"
      ]
     },
     "metadata": {},
     "output_type": "display_data"
    }
   ],
   "source": [
    "# Using the PANDAS FUNCTION\n",
    "df.plot.box() "
   ]
  },
  {
   "cell_type": "markdown",
   "metadata": {},
   "source": [
    "### Interpretation of the box plots for this dataset"
   ]
  },
  {
   "cell_type": "markdown",
   "metadata": {},
   "source": [
    "We know from the data description that the mean birth weight of the infants who survived is considerably higher than the mean birth weight of the infants who died. The standard deviation of the birth weights of the infants who survived is also higher, as reflected by the larger Interquartile Range (IQR) for the 'lived' group in the box plot.\n",
    "\n",
    "For the birth weights (in kg) of the infants who survived, the lower quartile, median and upper quartile are 1.74, 2.30 and 2.76. For infants who died, the corresponding quartiles are 1.24, 1.69 and 2.07. Box plots of the two data sets clearly depict these values, along with the adjacent sample maxima and minima, so that the whiskers extend to the ends of the sample range. It's also notable that there are no 'outliers' in the dataset.\n",
    "\n",
    "While this analysis is indicative of a correlation between birth weights and survival rates of infants with 'SIRDS', it should be noted that the dataset, at 50 observations, is somewhat small. A further analysis based on a dataset of some hundreds of observations could give a basis for conclusions at a higher confidence rate."
   ]
  },
  {
   "cell_type": "code",
   "execution_count": 10,
   "metadata": {},
   "outputs": [
    {
     "data": {
      "text/plain": [
       "<matplotlib.axes._subplots.AxesSubplot at 0x1a16f60668>"
      ]
     },
     "execution_count": 10,
     "metadata": {},
     "output_type": "execute_result"
    },
    {
     "data": {
      "image/png": "[encoded data removed]",
      "text/plain": [
       "<Figure size 432x288 with 1 Axes>"
      ]
     },
     "metadata": {},
     "output_type": "display_data"
    }
   ],
   "source": [
    "# using the matplotlib boxplot function\n",
    "df.boxplot()"
   ]
  },
  {
   "cell_type": "code",
   "execution_count": 4,
   "metadata": {},
   "outputs": [
    {
     "name": "stderr",
     "output_type": "stream",
     "text": [
      "/anaconda3/lib/python3.6/site-packages/ipykernel_launcher.py:2: DeprecationWarning: \n",
      ".ix is deprecated. Please use\n",
      ".loc for label based indexing or\n",
      ".iloc for positional indexing\n",
      "\n",
      "See the documentation here:\n",
      "http://pandas.pydata.org/pandas-docs/stable/indexing.html#ix-indexer-is-deprecated\n",
      "  \n"
     ]
    },
    {
     "data": {
      "text/plain": [
       "<matplotlib.axes._subplots.AxesSubplot at 0x1a16a95cf8>"
      ]
     },
     "execution_count": 4,
     "metadata": {},
     "output_type": "execute_result"
    },
    {
     "data": {
      "image/png": "[encoded data removed]",
      "text/plain": [
       "<Figure size 432x288 with 1 Axes>"
      ]
     },
     "metadata": {},
     "output_type": "display_data"
    }
   ],
   "source": [
    "# using seaborn box plot\n",
    "sns.boxplot(data=df.ix[:,0:2])\n",
    "# sns.plt.show()"
   ]
  },
  {
   "cell_type": "markdown",
   "metadata": {},
   "source": [
    "### What can a box plot highlight that descriptive statistics may not ?"
   ]
  },
  {
   "cell_type": "markdown",
   "metadata": {},
   "source": [
    "Most of the information depicted in a box plot is also available in the descriptive statistics, but a box plot can give us an immediate \"feel\" for the dataset at a glance. Humans are visual creatures. Most of us process information based on what we see. In fact 65 percent of us are visual learners, according to the Social Science Research Network. https://www.forbes.com/sites/tjmccue/2013/01/08/what-is-an-infographic-and-ways-to-make-it-go-viral/\n",
    "\n",
    "Of course a distribution plot will also provide a quick visual feel for the data, but the weight of the data distribution in the IQR may not appear quite so obvious. Skew also may be more apparent and the box plot can reveal the 'outliers' of the dataset far more clearly."
   ]
  },
  {
   "cell_type": "markdown",
   "metadata": {},
   "source": [
    "### Box Plots of other datasets"
   ]
  },
  {
   "cell_type": "code",
   "execution_count": null,
   "metadata": {},
   "outputs": [],
   "source": [
    "# https://blog.bigml.com/list-of-public-data-sources-fit-for-machine-learning/\n"
   ]
  },
  {
   "cell_type": "markdown",
   "metadata": {},
   "source": [
    "### References\n",
    "1. http://mathworld.wolfram.com/Box-and-WhiskerPlot.html\n",
    "1a. http://vita.had.co.nz/papers/boxplots.pdf\n",
    "2. https://en.wikipedia.org/wiki/John_Tukey\n",
    "3. https://www.amazon.com/Same-Not-Roald-Hoffmann/dp/0231101392\n",
    "4. https://en.wikipedia.org/wiki/Roald_Hoffmann\n",
    "5. http://www.physics.csbsju.edu/stats/box2.html\n",
    "6. https://www150.statcan.gc.ca/n1/edu/power-pouvoir/ch12/5214889-eng.htm\n",
    "7. https://help.qlik.com/en-US/sense/September2017/Subsystems/Hub/Content/Visualizations/BoxPlot/when-to-use-box-plot.htm\n",
    "8. https://support.minitab.com/en-us/minitab-express/1/help-and-how-to/graphs/boxplot/interpret-the-results/key-results/#step-2-look-for-indicators-of-nonnormal-or-unusual-data\n",
    "9. https://www.open.edu/openlearn/science-maths-technology/mathematics-and-statistics/statistics/interpreting-data-boxplots-and-tables/content-section-1.1.3\n",
    "\n",
    "\n",
    "\n"
   ]
  },
  {
   "cell_type": "code",
   "execution_count": null,
   "metadata": {},
   "outputs": [],
   "source": []
  }
 ],
 "metadata": {
  "kernelspec": {
   "display_name": "Python 3",
   "language": "python",
   "name": "python3"
  },
  "language_info": {
   "codemirror_mode": {
    "name": "ipython",
    "version": 3
   },
   "file_extension": ".py",
   "mimetype": "text/x-python",
   "name": "python",
   "nbconvert_exporter": "python",
   "pygments_lexer": "ipython3",
   "version": "3.6.5"
  }
 },
 "nbformat": 4,
 "nbformat_minor": 2
}
